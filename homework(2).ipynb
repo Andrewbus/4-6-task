{
  "cells": [
    {
      "cell_type": "code",
      "execution_count": 54,
      "metadata": {
        "id": "SfAvEA3hy65-"
      },
      "outputs": [],
      "source": [
        "import numpy as np\n",
        "import pandas as pd\n",
        "import seaborn as sns\n",
        "import matplotlib.pyplot as plt\n",
        "\n",
        "from sklearn.impute import SimpleImputer\n",
        "from sklearn.preprocessing import StandardScaler, MinMaxScaler, OrdinalEncoder, OneHotEncoder\n",
        "from sklearn.decomposition import PCA\n",
        "\n",
        "from sklearn.feature_selection import VarianceThreshold, SelectFromModel, RFECV, SequentialFeatureSelector\n",
        "\n",
        "from sklearn.ensemble import RandomForestClassifier, RandomForestRegressor\n",
        "from sklearn.linear_model import LogisticRegression\n",
        "\n",
        "from sklearn.model_selection import KFold, cross_val_score, train_test_split\n",
        "from sklearn.pipeline import Pipeline, make_pipeline\n",
        "from sklearn.metrics import accuracy_score\n",
        "\n",
        "from sklearn.datasets import make_classification, load_wine, load_breast_cancer, load_diabetes, load_digits"
      ]
    },
    {
      "cell_type": "code",
      "execution_count": 55,
      "metadata": {
        "id": "hpEkt7wXy66I"
      },
      "outputs": [],
      "source": [
        "plt.style.use('seaborn-darkgrid')"
      ]
    },
    {
      "cell_type": "code",
      "execution_count": 56,
      "metadata": {
        "id": "0wZDIR9ny66K"
      },
      "outputs": [],
      "source": [
        "def plot_scatter(x, y, auto_scaled=True, title=None, clusters=None):\n",
        "    plt.figure(figsize=(4, 4))\n",
        "    plt.scatter(x, y, c=clusters, cmap='bwr')\n",
        "    \n",
        "    if not auto_scaled:\n",
        "        plt.axis('square')\n",
        "    \n",
        "    plt.grid(True)\n",
        "    plt.title(title)\n",
        "    \n",
        "    plt.show()\n",
        "    \n",
        "def return_X_y(data, target_column):\n",
        "    return data.drop(target_column, axis=1), data[target_column]"
      ]
    },
    {
      "cell_type": "code",
      "execution_count": 57,
      "metadata": {
        "id": "YVvVIE3cy66N"
      },
      "outputs": [],
      "source": [
        "wine_sklearn = load_wine(as_frame=True)\n",
        "wine_data, wine_labels = wine_sklearn['data'], wine_sklearn['target']"
      ]
    },
    {
      "cell_type": "code",
      "source": [
        "wine_data"
      ],
      "metadata": {
        "colab": {
          "base_uri": "https://localhost:8080/",
          "height": 424
        },
        "id": "z86HE4tJzL2o",
        "outputId": "5da930a0-4c15-4819-c7cc-3005dcddb499"
      },
      "execution_count": 58,
      "outputs": [
        {
          "output_type": "execute_result",
          "data": {
            "text/plain": [
              "     alcohol  malic_acid   ash  alcalinity_of_ash  magnesium  total_phenols  \\\n",
              "0      14.23        1.71  2.43               15.6      127.0           2.80   \n",
              "1      13.20        1.78  2.14               11.2      100.0           2.65   \n",
              "2      13.16        2.36  2.67               18.6      101.0           2.80   \n",
              "3      14.37        1.95  2.50               16.8      113.0           3.85   \n",
              "4      13.24        2.59  2.87               21.0      118.0           2.80   \n",
              "..       ...         ...   ...                ...        ...            ...   \n",
              "173    13.71        5.65  2.45               20.5       95.0           1.68   \n",
              "174    13.40        3.91  2.48               23.0      102.0           1.80   \n",
              "175    13.27        4.28  2.26               20.0      120.0           1.59   \n",
              "176    13.17        2.59  2.37               20.0      120.0           1.65   \n",
              "177    14.13        4.10  2.74               24.5       96.0           2.05   \n",
              "\n",
              "     flavanoids  nonflavanoid_phenols  proanthocyanins  color_intensity   hue  \\\n",
              "0          3.06                  0.28             2.29             5.64  1.04   \n",
              "1          2.76                  0.26             1.28             4.38  1.05   \n",
              "2          3.24                  0.30             2.81             5.68  1.03   \n",
              "3          3.49                  0.24             2.18             7.80  0.86   \n",
              "4          2.69                  0.39             1.82             4.32  1.04   \n",
              "..          ...                   ...              ...              ...   ...   \n",
              "173        0.61                  0.52             1.06             7.70  0.64   \n",
              "174        0.75                  0.43             1.41             7.30  0.70   \n",
              "175        0.69                  0.43             1.35            10.20  0.59   \n",
              "176        0.68                  0.53             1.46             9.30  0.60   \n",
              "177        0.76                  0.56             1.35             9.20  0.61   \n",
              "\n",
              "     od280/od315_of_diluted_wines  proline  \n",
              "0                            3.92   1065.0  \n",
              "1                            3.40   1050.0  \n",
              "2                            3.17   1185.0  \n",
              "3                            3.45   1480.0  \n",
              "4                            2.93    735.0  \n",
              "..                            ...      ...  \n",
              "173                          1.74    740.0  \n",
              "174                          1.56    750.0  \n",
              "175                          1.56    835.0  \n",
              "176                          1.62    840.0  \n",
              "177                          1.60    560.0  \n",
              "\n",
              "[178 rows x 13 columns]"
            ],
            "text/html": [
              "\n",
              "  <div id=\"df-7231558f-3343-4192-b6c9-eccd72b9f75c\">\n",
              "    <div class=\"colab-df-container\">\n",
              "      <div>\n",
              "<style scoped>\n",
              "    .dataframe tbody tr th:only-of-type {\n",
              "        vertical-align: middle;\n",
              "    }\n",
              "\n",
              "    .dataframe tbody tr th {\n",
              "        vertical-align: top;\n",
              "    }\n",
              "\n",
              "    .dataframe thead th {\n",
              "        text-align: right;\n",
              "    }\n",
              "</style>\n",
              "<table border=\"1\" class=\"dataframe\">\n",
              "  <thead>\n",
              "    <tr style=\"text-align: right;\">\n",
              "      <th></th>\n",
              "      <th>alcohol</th>\n",
              "      <th>malic_acid</th>\n",
              "      <th>ash</th>\n",
              "      <th>alcalinity_of_ash</th>\n",
              "      <th>magnesium</th>\n",
              "      <th>total_phenols</th>\n",
              "      <th>flavanoids</th>\n",
              "      <th>nonflavanoid_phenols</th>\n",
              "      <th>proanthocyanins</th>\n",
              "      <th>color_intensity</th>\n",
              "      <th>hue</th>\n",
              "      <th>od280/od315_of_diluted_wines</th>\n",
              "      <th>proline</th>\n",
              "    </tr>\n",
              "  </thead>\n",
              "  <tbody>\n",
              "    <tr>\n",
              "      <th>0</th>\n",
              "      <td>14.23</td>\n",
              "      <td>1.71</td>\n",
              "      <td>2.43</td>\n",
              "      <td>15.6</td>\n",
              "      <td>127.0</td>\n",
              "      <td>2.80</td>\n",
              "      <td>3.06</td>\n",
              "      <td>0.28</td>\n",
              "      <td>2.29</td>\n",
              "      <td>5.64</td>\n",
              "      <td>1.04</td>\n",
              "      <td>3.92</td>\n",
              "      <td>1065.0</td>\n",
              "    </tr>\n",
              "    <tr>\n",
              "      <th>1</th>\n",
              "      <td>13.20</td>\n",
              "      <td>1.78</td>\n",
              "      <td>2.14</td>\n",
              "      <td>11.2</td>\n",
              "      <td>100.0</td>\n",
              "      <td>2.65</td>\n",
              "      <td>2.76</td>\n",
              "      <td>0.26</td>\n",
              "      <td>1.28</td>\n",
              "      <td>4.38</td>\n",
              "      <td>1.05</td>\n",
              "      <td>3.40</td>\n",
              "      <td>1050.0</td>\n",
              "    </tr>\n",
              "    <tr>\n",
              "      <th>2</th>\n",
              "      <td>13.16</td>\n",
              "      <td>2.36</td>\n",
              "      <td>2.67</td>\n",
              "      <td>18.6</td>\n",
              "      <td>101.0</td>\n",
              "      <td>2.80</td>\n",
              "      <td>3.24</td>\n",
              "      <td>0.30</td>\n",
              "      <td>2.81</td>\n",
              "      <td>5.68</td>\n",
              "      <td>1.03</td>\n",
              "      <td>3.17</td>\n",
              "      <td>1185.0</td>\n",
              "    </tr>\n",
              "    <tr>\n",
              "      <th>3</th>\n",
              "      <td>14.37</td>\n",
              "      <td>1.95</td>\n",
              "      <td>2.50</td>\n",
              "      <td>16.8</td>\n",
              "      <td>113.0</td>\n",
              "      <td>3.85</td>\n",
              "      <td>3.49</td>\n",
              "      <td>0.24</td>\n",
              "      <td>2.18</td>\n",
              "      <td>7.80</td>\n",
              "      <td>0.86</td>\n",
              "      <td>3.45</td>\n",
              "      <td>1480.0</td>\n",
              "    </tr>\n",
              "    <tr>\n",
              "      <th>4</th>\n",
              "      <td>13.24</td>\n",
              "      <td>2.59</td>\n",
              "      <td>2.87</td>\n",
              "      <td>21.0</td>\n",
              "      <td>118.0</td>\n",
              "      <td>2.80</td>\n",
              "      <td>2.69</td>\n",
              "      <td>0.39</td>\n",
              "      <td>1.82</td>\n",
              "      <td>4.32</td>\n",
              "      <td>1.04</td>\n",
              "      <td>2.93</td>\n",
              "      <td>735.0</td>\n",
              "    </tr>\n",
              "    <tr>\n",
              "      <th>...</th>\n",
              "      <td>...</td>\n",
              "      <td>...</td>\n",
              "      <td>...</td>\n",
              "      <td>...</td>\n",
              "      <td>...</td>\n",
              "      <td>...</td>\n",
              "      <td>...</td>\n",
              "      <td>...</td>\n",
              "      <td>...</td>\n",
              "      <td>...</td>\n",
              "      <td>...</td>\n",
              "      <td>...</td>\n",
              "      <td>...</td>\n",
              "    </tr>\n",
              "    <tr>\n",
              "      <th>173</th>\n",
              "      <td>13.71</td>\n",
              "      <td>5.65</td>\n",
              "      <td>2.45</td>\n",
              "      <td>20.5</td>\n",
              "      <td>95.0</td>\n",
              "      <td>1.68</td>\n",
              "      <td>0.61</td>\n",
              "      <td>0.52</td>\n",
              "      <td>1.06</td>\n",
              "      <td>7.70</td>\n",
              "      <td>0.64</td>\n",
              "      <td>1.74</td>\n",
              "      <td>740.0</td>\n",
              "    </tr>\n",
              "    <tr>\n",
              "      <th>174</th>\n",
              "      <td>13.40</td>\n",
              "      <td>3.91</td>\n",
              "      <td>2.48</td>\n",
              "      <td>23.0</td>\n",
              "      <td>102.0</td>\n",
              "      <td>1.80</td>\n",
              "      <td>0.75</td>\n",
              "      <td>0.43</td>\n",
              "      <td>1.41</td>\n",
              "      <td>7.30</td>\n",
              "      <td>0.70</td>\n",
              "      <td>1.56</td>\n",
              "      <td>750.0</td>\n",
              "    </tr>\n",
              "    <tr>\n",
              "      <th>175</th>\n",
              "      <td>13.27</td>\n",
              "      <td>4.28</td>\n",
              "      <td>2.26</td>\n",
              "      <td>20.0</td>\n",
              "      <td>120.0</td>\n",
              "      <td>1.59</td>\n",
              "      <td>0.69</td>\n",
              "      <td>0.43</td>\n",
              "      <td>1.35</td>\n",
              "      <td>10.20</td>\n",
              "      <td>0.59</td>\n",
              "      <td>1.56</td>\n",
              "      <td>835.0</td>\n",
              "    </tr>\n",
              "    <tr>\n",
              "      <th>176</th>\n",
              "      <td>13.17</td>\n",
              "      <td>2.59</td>\n",
              "      <td>2.37</td>\n",
              "      <td>20.0</td>\n",
              "      <td>120.0</td>\n",
              "      <td>1.65</td>\n",
              "      <td>0.68</td>\n",
              "      <td>0.53</td>\n",
              "      <td>1.46</td>\n",
              "      <td>9.30</td>\n",
              "      <td>0.60</td>\n",
              "      <td>1.62</td>\n",
              "      <td>840.0</td>\n",
              "    </tr>\n",
              "    <tr>\n",
              "      <th>177</th>\n",
              "      <td>14.13</td>\n",
              "      <td>4.10</td>\n",
              "      <td>2.74</td>\n",
              "      <td>24.5</td>\n",
              "      <td>96.0</td>\n",
              "      <td>2.05</td>\n",
              "      <td>0.76</td>\n",
              "      <td>0.56</td>\n",
              "      <td>1.35</td>\n",
              "      <td>9.20</td>\n",
              "      <td>0.61</td>\n",
              "      <td>1.60</td>\n",
              "      <td>560.0</td>\n",
              "    </tr>\n",
              "  </tbody>\n",
              "</table>\n",
              "<p>178 rows × 13 columns</p>\n",
              "</div>\n",
              "      <button class=\"colab-df-convert\" onclick=\"convertToInteractive('df-7231558f-3343-4192-b6c9-eccd72b9f75c')\"\n",
              "              title=\"Convert this dataframe to an interactive table.\"\n",
              "              style=\"display:none;\">\n",
              "        \n",
              "  <svg xmlns=\"http://www.w3.org/2000/svg\" height=\"24px\"viewBox=\"0 0 24 24\"\n",
              "       width=\"24px\">\n",
              "    <path d=\"M0 0h24v24H0V0z\" fill=\"none\"/>\n",
              "    <path d=\"M18.56 5.44l.94 2.06.94-2.06 2.06-.94-2.06-.94-.94-2.06-.94 2.06-2.06.94zm-11 1L8.5 8.5l.94-2.06 2.06-.94-2.06-.94L8.5 2.5l-.94 2.06-2.06.94zm10 10l.94 2.06.94-2.06 2.06-.94-2.06-.94-.94-2.06-.94 2.06-2.06.94z\"/><path d=\"M17.41 7.96l-1.37-1.37c-.4-.4-.92-.59-1.43-.59-.52 0-1.04.2-1.43.59L10.3 9.45l-7.72 7.72c-.78.78-.78 2.05 0 2.83L4 21.41c.39.39.9.59 1.41.59.51 0 1.02-.2 1.41-.59l7.78-7.78 2.81-2.81c.8-.78.8-2.07 0-2.86zM5.41 20L4 18.59l7.72-7.72 1.47 1.35L5.41 20z\"/>\n",
              "  </svg>\n",
              "      </button>\n",
              "      \n",
              "  <style>\n",
              "    .colab-df-container {\n",
              "      display:flex;\n",
              "      flex-wrap:wrap;\n",
              "      gap: 12px;\n",
              "    }\n",
              "\n",
              "    .colab-df-convert {\n",
              "      background-color: #E8F0FE;\n",
              "      border: none;\n",
              "      border-radius: 50%;\n",
              "      cursor: pointer;\n",
              "      display: none;\n",
              "      fill: #1967D2;\n",
              "      height: 32px;\n",
              "      padding: 0 0 0 0;\n",
              "      width: 32px;\n",
              "    }\n",
              "\n",
              "    .colab-df-convert:hover {\n",
              "      background-color: #E2EBFA;\n",
              "      box-shadow: 0px 1px 2px rgba(60, 64, 67, 0.3), 0px 1px 3px 1px rgba(60, 64, 67, 0.15);\n",
              "      fill: #174EA6;\n",
              "    }\n",
              "\n",
              "    [theme=dark] .colab-df-convert {\n",
              "      background-color: #3B4455;\n",
              "      fill: #D2E3FC;\n",
              "    }\n",
              "\n",
              "    [theme=dark] .colab-df-convert:hover {\n",
              "      background-color: #434B5C;\n",
              "      box-shadow: 0px 1px 3px 1px rgba(0, 0, 0, 0.15);\n",
              "      filter: drop-shadow(0px 1px 2px rgba(0, 0, 0, 0.3));\n",
              "      fill: #FFFFFF;\n",
              "    }\n",
              "  </style>\n",
              "\n",
              "      <script>\n",
              "        const buttonEl =\n",
              "          document.querySelector('#df-7231558f-3343-4192-b6c9-eccd72b9f75c button.colab-df-convert');\n",
              "        buttonEl.style.display =\n",
              "          google.colab.kernel.accessAllowed ? 'block' : 'none';\n",
              "\n",
              "        async function convertToInteractive(key) {\n",
              "          const element = document.querySelector('#df-7231558f-3343-4192-b6c9-eccd72b9f75c');\n",
              "          const dataTable =\n",
              "            await google.colab.kernel.invokeFunction('convertToInteractive',\n",
              "                                                     [key], {});\n",
              "          if (!dataTable) return;\n",
              "\n",
              "          const docLinkHtml = 'Like what you see? Visit the ' +\n",
              "            '<a target=\"_blank\" href=https://colab.research.google.com/notebooks/data_table.ipynb>data table notebook</a>'\n",
              "            + ' to learn more about interactive tables.';\n",
              "          element.innerHTML = '';\n",
              "          dataTable['output_type'] = 'display_data';\n",
              "          await google.colab.output.renderOutput(dataTable, element);\n",
              "          const docLink = document.createElement('div');\n",
              "          docLink.innerHTML = docLinkHtml;\n",
              "          element.appendChild(docLink);\n",
              "        }\n",
              "      </script>\n",
              "    </div>\n",
              "  </div>\n",
              "  "
            ]
          },
          "metadata": {},
          "execution_count": 58
        }
      ]
    },
    {
      "cell_type": "code",
      "source": [
        "wine_labels"
      ],
      "metadata": {
        "colab": {
          "base_uri": "https://localhost:8080/"
        },
        "id": "VGfaEvt1FQsK",
        "outputId": "d98eec93-35c5-420d-e537-01a7a87b0d1c"
      },
      "execution_count": 59,
      "outputs": [
        {
          "output_type": "execute_result",
          "data": {
            "text/plain": [
              "0      0\n",
              "1      0\n",
              "2      0\n",
              "3      0\n",
              "4      0\n",
              "      ..\n",
              "173    2\n",
              "174    2\n",
              "175    2\n",
              "176    2\n",
              "177    2\n",
              "Name: target, Length: 178, dtype: int64"
            ]
          },
          "metadata": {},
          "execution_count": 59
        }
      ]
    },
    {
      "cell_type": "markdown",
      "metadata": {
        "id": "HGeQMyI0y66P"
      },
      "source": [
        "# Homework"
      ]
    },
    {
      "cell_type": "markdown",
      "metadata": {
        "id": "HXXEpljyy66Z"
      },
      "source": [
        "## Exercise  1 - Scaling (2 points)"
      ]
    },
    {
      "cell_type": "markdown",
      "metadata": {
        "id": "8AE86cCFy66e"
      },
      "source": [
        "Perform standardization for wine dataset (`wine_data`) using only basic python, numpy and pandas (without using `StandardScaler` and sklearn at all). Implementation of function (or class) that can get dataset as input and return standardized dataset as output is preferrable, but not necessary.\n",
        "\n",
        "Compare you results (output) with `StandardScaler`.\n",
        "\n",
        "**NOTE:**\n",
        "\n",
        "- 1 point for functional version, 2 points for implementing scaling as sklearn pipeline compartible class. \n",
        "- Maximum for the exercise is 2 points.\n"
      ]
    },
    {
      "cell_type": "markdown",
      "metadata": {
        "id": "txS-1DsJy66l"
      },
      "source": [
        "### Simple version (1 point)"
      ]
    },
    {
      "cell_type": "code",
      "execution_count": 60,
      "metadata": {
        "id": "aZT2Hmxey66m"
      },
      "outputs": [],
      "source": [
        "# 1 point\n",
        "def scale(X):\n",
        "    return (X - np.mean(X)) / np.std(X)"
      ]
    },
    {
      "cell_type": "code",
      "execution_count": 61,
      "metadata": {
        "id": "29-3uxyyy66p"
      },
      "outputs": [],
      "source": [
        "assert np.allclose(np.array(scale(wine_data)), StandardScaler().fit_transform(wine_data))"
      ]
    },
    {
      "cell_type": "markdown",
      "metadata": {
        "id": "ItyKl-ZKy66q"
      },
      "source": [
        "### Pipeline Version (2 points)"
      ]
    },
    {
      "cell_type": "code",
      "execution_count": 62,
      "metadata": {
        "id": "KlQLtrQcy66s"
      },
      "outputs": [],
      "source": [
        "# 2 points\n",
        "from sklearn.base import BaseEstimator, TransformerMixin\n",
        "class CustomScaler(BaseEstimator, TransformerMixin):\n",
        "    def __init__(self, copy=True, with_mean=True, with_std=True):\n",
        "        super().__init__()\n",
        "        self.means_ = None\n",
        "        self.std_ = None\n",
        "\n",
        "    def fit(self, X, y=None):\n",
        "        X = X.to_numpy()\n",
        "        self.means_ = X.mean(axis=0, keepdims=True)\n",
        "        self.std_ = X.std(axis=0, keepdims=True)\n",
        "\n",
        "        return self\n",
        "\n",
        "    def transform(self, X, y=None, copy=None):\n",
        "        X[:] = (X.to_numpy() - self.means_) / self.std_\n",
        "\n",
        "        return X"
      ]
    },
    {
      "cell_type": "code",
      "execution_count": 63,
      "metadata": {
        "id": "aqYXZbsDy66t",
        "colab": {
          "base_uri": "https://localhost:8080/"
        },
        "outputId": "d908f5c2-506b-4b29-c5a1-9097b42e6392"
      },
      "outputs": [
        {
          "output_type": "stream",
          "name": "stderr",
          "text": [
            "/usr/local/lib/python3.7/dist-packages/ipykernel_launcher.py:17: SettingWithCopyWarning: \n",
            "A value is trying to be set on a copy of a slice from a DataFrame.\n",
            "Try using .loc[row_indexer,col_indexer] = value instead\n",
            "\n",
            "See the caveats in the documentation: https://pandas.pydata.org/pandas-docs/stable/user_guide/indexing.html#returning-a-view-versus-a-copy\n",
            "/usr/local/lib/python3.7/dist-packages/pandas/core/indexing.py:1732: SettingWithCopyWarning: \n",
            "A value is trying to be set on a copy of a slice from a DataFrame\n",
            "\n",
            "See the caveats in the documentation: https://pandas.pydata.org/pandas-docs/stable/user_guide/indexing.html#returning-a-view-versus-a-copy\n",
            "  self._setitem_single_block(indexer, value, name)\n",
            "/usr/local/lib/python3.7/dist-packages/pandas/core/indexing.py:723: SettingWithCopyWarning: \n",
            "A value is trying to be set on a copy of a slice from a DataFrame\n",
            "\n",
            "See the caveats in the documentation: https://pandas.pydata.org/pandas-docs/stable/user_guide/indexing.html#returning-a-view-versus-a-copy\n",
            "  iloc._setitem_with_indexer(indexer, value, self.name)\n"
          ]
        }
      ],
      "source": [
        "assert np.allclose(CustomScaler().fit_transform(wine_data), StandardScaler().fit_transform(wine_data))"
      ]
    },
    {
      "cell_type": "markdown",
      "metadata": {
        "id": "wZDBYV3Ay66u"
      },
      "source": [
        "## Exercise  2 - Visualization (3 points)"
      ]
    },
    {
      "cell_type": "markdown",
      "metadata": {
        "id": "6nWoKdl3y66v"
      },
      "source": [
        "As noted earlier, standardization/normalization of data can be crucial for some distance-based ML methods.\n",
        "\n",
        "Let’s generate some toy example of unnormalized data and visualize the importance of this process once more:"
      ]
    },
    {
      "cell_type": "code",
      "execution_count": 64,
      "metadata": {
        "id": "awhlrNAuy66w",
        "outputId": "1258036a-c84f-47b9-d61d-b4d2ad46b962",
        "colab": {
          "base_uri": "https://localhost:8080/"
        }
      },
      "outputs": [
        {
          "output_type": "execute_result",
          "data": {
            "text/plain": [
              "array([[-0.99489384, -0.21104029],\n",
              "       [-6.10358864,  0.63768521],\n",
              "       [-4.53248987, -1.11615084],\n",
              "       ...,\n",
              "       [-8.95148482,  4.22398303],\n",
              "       [-8.15570985,  3.06547404],\n",
              "       [-3.40253367,  5.10779106]])"
            ]
          },
          "metadata": {},
          "execution_count": 64
        }
      ],
      "source": [
        "feature_0 = np.random.randn(1000) * 10   \n",
        "feature_1 = np.concatenate([np.random.randn(500), np.random.randn(500) + 5])\n",
        "data = np.column_stack([feature_0, feature_1])\n",
        "data "
      ]
    },
    {
      "cell_type": "code",
      "execution_count": 65,
      "metadata": {
        "id": "qJcd4QiOy66x",
        "outputId": "27af4eaf-f6c4-4dad-e0b4-60d1a7649295",
        "colab": {
          "base_uri": "https://localhost:8080/",
          "height": 277
        }
      },
      "outputs": [
        {
          "output_type": "display_data",
          "data": {
            "text/plain": [
              "<Figure size 288x288 with 1 Axes>"
            ],
            "image/png": "[encoded data removed]"
          },
          "metadata": {}
        }
      ],
      "source": [
        "plot_scatter(data[:, 0], data[:, 1], auto_scaled=True, title='Data (different axes units!)')"
      ]
    },
    {
      "cell_type": "markdown",
      "metadata": {
        "id": "Kh9re_Exy660"
      },
      "source": [
        "**NOTE:** on the plot above axes are scaled differently and we can clearly see two potential *classes/clusters*. In fact `matplotlib` performed `autoscaling` (which is basically can be considered as `MinMaxScaling` of original data) just for better visualization purposes.\n",
        "\n",
        "Let's turn this feature off and visualize the original data on the plot with equally scaled axes:"
      ]
    },
    {
      "cell_type": "code",
      "execution_count": 66,
      "metadata": {
        "id": "wbx0IMtUy661",
        "outputId": "6f4d5547-bac8-4f0a-f6e2-100700e391cb",
        "colab": {
          "base_uri": "https://localhost:8080/",
          "height": 277
        }
      },
      "outputs": [
        {
          "output_type": "display_data",
          "data": {
            "text/plain": [
              "<Figure size 288x288 with 1 Axes>"
            ],
            "image/png": "[encoded data removed]"
          },
          "metadata": {}
        }
      ],
      "source": [
        "plot_scatter(data[:, 0], data[:, 1], auto_scaled=False , title='Data (equal axes units!)')"
      ]
    },
    {
      "cell_type": "markdown",
      "metadata": {
        "id": "bK7DIfeKy663"
      },
      "source": [
        "This picture is clearly less interpretable, but much closer to \"how distance-based algorithm see the original data\": separability of data is hardly noticable only because the variation (std) of x-feature is much bigger in absolute numbers."
      ]
    },
    {
      "cell_type": "markdown",
      "metadata": {
        "id": "pyvr9Dx_y664"
      },
      "source": [
        "Perform `StandardScaling` and `MinMaxScaling` of original data; visualize \n",
        "\n",
        "*   Новый пункт\n",
        "*   Новый пункт\n",
        "\n",
        "results for each case (**use `plot_scatter` with `auto_scaled=False`**):"
      ]
    },
    {
      "cell_type": "code",
      "source": [
        "data_sc = StandardScaler().fit_transform(wine_data)\n",
        "data_mms = MinMaxScaler().fit_transform(wine_data)"
      ],
      "metadata": {
        "id": "01A2pOSeJVoY"
      },
      "execution_count": 67,
      "outputs": []
    },
    {
      "cell_type": "markdown",
      "metadata": {
        "id": "CBBwJUrRy67F"
      },
      "source": [
        "### MinMaxScaling (0.5 point)"
      ]
    },
    {
      "cell_type": "code",
      "execution_count": 68,
      "metadata": {
        "id": "Iy6-gIiiy67G",
        "colab": {
          "base_uri": "https://localhost:8080/",
          "height": 262
        },
        "outputId": "13cbf008-a65e-4e41-8aa8-1b64bacff97a"
      },
      "outputs": [
        {
          "output_type": "display_data",
          "data": {
            "text/plain": [
              "<Figure size 288x288 with 1 Axes>"
            ],
            "image/png": "[encoded data removed]"
          },
          "metadata": {}
        }
      ],
      "source": [
        "plot_scatter(data_sc[:, 0], data_sc[:, 1], auto_scaled=False)"
      ]
    },
    {
      "cell_type": "markdown",
      "metadata": {
        "id": "lEHa4Uoby67G"
      },
      "source": [
        "### StandardScaler (0.5 point)"
      ]
    },
    {
      "cell_type": "code",
      "execution_count": 69,
      "metadata": {
        "id": "cDfUwjfQy67H",
        "colab": {
          "base_uri": "https://localhost:8080/",
          "height": 262
        },
        "outputId": "d24e816f-5c2a-4ce7-8474-5ed180483dae"
      },
      "outputs": [
        {
          "output_type": "display_data",
          "data": {
            "text/plain": [
              "<Figure size 288x288 with 1 Axes>"
            ],
            "image/png": "[encoded data removed]"
          },
          "metadata": {}
        }
      ],
      "source": [
        "plot_scatter(data_mms[:, 0], data_mms[:, 1], auto_scaled=False)"
      ]
    },
    {
      "cell_type": "markdown",
      "metadata": {
        "id": "URDiUGyay67I"
      },
      "source": [
        "### (Bonus) K-means (2 points)"
      ]
    },
    {
      "cell_type": "markdown",
      "metadata": {
        "id": "aSjf-PeZy67I"
      },
      "source": [
        "Illustrate the impact of scaling on basic distance-based clustering algorithm [K-means](https://towardsdatascience.com/understanding-k-means-clustering-in-machine-learning-6a6e67336aa1) using `data` generated above.\n",
        "\n",
        "**NOTE:** basically, you don't need understanding K-means algorithm here, you just need to:\n",
        "\n",
        "1) run algorithm (with k=2, k - number of clusters/classes) on unscaled data    \n",
        "2) run algorithm (with k=2) on scaled data    \n",
        "3) plot results: highlight different clusters using different colors.\n",
        "\n",
        "You can use this [question](https://stats.stackexchange.com/questions/89809/is-it-important-to-scale-data-before-clustering/89813) as a hint, but I recommend you to plot results using `plot_scatter` with `equal_scaled=True`: it might help you to intuitively understand the reasons of such scaling impact.\n"
      ]
    },
    {
      "cell_type": "code",
      "execution_count": 70,
      "metadata": {
        "id": "e09IsGYwy67J",
        "colab": {
          "base_uri": "https://localhost:8080/",
          "height": 507
        },
        "outputId": "b77ad9d7-339c-427e-b199-d966d8633213"
      },
      "outputs": [
        {
          "output_type": "display_data",
          "data": {
            "text/plain": [
              "<Figure size 288x288 with 1 Axes>"
            ],
            "image/png": "[encoded data removed]"
          },
          "metadata": {}
        },
        {
          "output_type": "display_data",
          "data": {
            "text/plain": [
              "<Figure size 288x288 with 1 Axes>"
            ],
            "image/png": "[encoded data removed]"
          },
          "metadata": {}
        }
      ],
      "source": [
        "from sklearn.cluster import KMeans\n",
        "km = KMeans(2)\n",
        "data_no = km.fit_predict(data)\n",
        "data_yes = km.fit_predict(StandardScaler().fit_transform(data))\n",
        "plot_scatter(x=data[:,0], y = data[:,1], clusters=data_no, auto_scaled= False)\n",
        "plot_scatter(x=data[:,0], y = data[:,1], clusters=data_yes, auto_scaled= False)"
      ]
    },
    {
      "cell_type": "markdown",
      "metadata": {
        "id": "UIuV4iOsy67J"
      },
      "source": [
        "## Exercise  3 - Preprocessing Pipeline (2 points)"
      ]
    },
    {
      "cell_type": "code",
      "execution_count": 71,
      "metadata": {
        "id": "F9lQ5hv2y67K"
      },
      "outputs": [],
      "source": [
        "wine_train, wine_val, wine_labels_train, wine_labels_val = train_test_split(wine_data, wine_labels, \n",
        "                                                                            test_size=0.3, random_state=42)"
      ]
    },
    {
      "cell_type": "markdown",
      "metadata": {
        "id": "Oe01Wf-ay67K"
      },
      "source": [
        "Train model (for example, `LogisticRegression(solver='liblinear', penalty='l1')` on raw `wine_train` data; then train same model after data scaling; then add feature selection (and train model again on scaled data). For each experiment all required preprocessing steps (if any) should be wrapped into sklearn pipeline.\n",
        "\n",
        "Measure `accuracy` of all 3 approaches on `wine_val` dataset. Describe and explain results."
      ]
    },
    {
      "cell_type": "code",
      "source": [
        ""
      ],
      "metadata": {
        "id": "PVHZxmUXWNpl"
      },
      "execution_count": 71,
      "outputs": []
    },
    {
      "cell_type": "code",
      "execution_count": 72,
      "metadata": {
        "id": "uj8qqheKy67L",
        "colab": {
          "base_uri": "https://localhost:8080/"
        },
        "outputId": "3725eb57-8dab-44bc-bddf-cc7cbe774833"
      },
      "outputs": [
        {
          "output_type": "execute_result",
          "data": {
            "text/plain": [
              "0.9814814814814815"
            ]
          },
          "metadata": {},
          "execution_count": 72
        }
      ],
      "source": [
        "pipe_1 = LogisticRegression(solver='liblinear', penalty='l1')\n",
        "pipe_1.fit(wine_train, wine_labels_train)\n",
        "pred_1 = pipe_1.predict(wine_val)\n",
        "accuracy_score(pred_1, wine_labels_val)"
      ]
    },
    {
      "cell_type": "code",
      "source": [
        "from sklearn.svm import SVC\n",
        "from sklearn.pipeline import Pipeline\n",
        "pipe_2= Pipeline([('scaler', StandardScaler()), ('svc', SVC())])"
      ],
      "metadata": {
        "id": "gSoKJtwkWWLT"
      },
      "execution_count": 73,
      "outputs": []
    },
    {
      "cell_type": "code",
      "source": [
        "pipe_2.fit(wine_train, wine_labels_train)\n",
        "pred_2 = pipe_2.predict(wine_val)\n",
        "accuracy_score(pred_2, wine_labels_val)"
      ],
      "metadata": {
        "colab": {
          "base_uri": "https://localhost:8080/"
        },
        "id": "lWF2rE2HWmcW",
        "outputId": "433d0da7-f3ee-4aa2-c577-4e1d769a790c"
      },
      "execution_count": 74,
      "outputs": [
        {
          "output_type": "execute_result",
          "data": {
            "text/plain": [
              "0.9814814814814815"
            ]
          },
          "metadata": {},
          "execution_count": 74
        }
      ]
    },
    {
      "cell_type": "code",
      "source": [
        "X = CustomScaler().fit_transform(wine_train)\n",
        "pipe_3 = LogisticRegression(solver='liblinear', penalty='l1')\n",
        "pipe_3.fit(X, wine_labels_train)\n",
        "pred_3 = pipe_3.predict(wine_val)\n",
        "accuracy_score(pred_3, wine_labels_val)"
      ],
      "metadata": {
        "colab": {
          "base_uri": "https://localhost:8080/"
        },
        "id": "N-4nhKp-YQa6",
        "outputId": "d9ea2d50-458e-4e30-e0a7-573f9329c08d"
      },
      "execution_count": 75,
      "outputs": [
        {
          "output_type": "execute_result",
          "data": {
            "text/plain": [
              "0.9814814814814815"
            ]
          },
          "metadata": {},
          "execution_count": 75
        }
      ]
    },
    {
      "cell_type": "code",
      "source": [
        "# from sklearn.feature_selection import SelectPercentile, chi2\n",
        "# from sklearn.feature_extraction.text import CountVectorizer\n",
        "# selection = SelectPercentile(chi2, percentile=50)\n",
        "# vect = CountVectorizer()\n",
        "# clf = LogisticRegression()\n",
        "# pipe = make_pipeline(vect, selection, clf)\n",
        "# cross_val_score(pipe, wine_train, wine_labels_train, scoring='accuracy').mean()"
      ],
      "metadata": {
        "id": "OyyBpBGXYP7q"
      },
      "execution_count": 76,
      "outputs": []
    },
    {
      "cell_type": "code",
      "source": [
        "from sklearn.feature_selection import f_regression\n",
        "from sklearn.feature_selection import SelectKBest\n",
        "fs = SelectKBest(score_func=f_regression, k=10)\n",
        "X_selected = fs.fit_transform(X, wine_labels_train)"
      ],
      "metadata": {
        "id": "rKhq3jbqdIyZ"
      },
      "execution_count": 77,
      "outputs": []
    },
    {
      "cell_type": "markdown",
      "metadata": {
        "id": "Z35W5fpmy67L"
      },
      "source": [
        "## Exercise 4 - manual PCA (5 points)\n",
        "The task is to solve PCA as an optimization problem, without explicitly doing eigen value decomposition.\n",
        "In the most general setting PCA is minimization of reconstruction error of a projection of given rank $q$\n",
        "\n",
        "$$\\min_{\\mu, \\lambda_1,\\ldots, \\lambda_n, \\mathbf{V}_q} \\sum_{i=1}^n ||x_i - \\mu - \\mathbf{V}_q \\lambda_i||^2$$\n",
        "\n",
        "With a number of steps that can be found here https://stats.stackexchange.com/a/10260 this task transforms to\n",
        " $$\\max_{u_i} \\sum_{i=1}^q u_i^T \\mathbf{S} u_i$$\n",
        " where $\\mathbf{S}$ is the sample covariance matrix (after standartization) and $u_1, \\ldots, u_q$ are the $q$ are orthonormal columns in $\\mathbf{V}_q$.\n",
        " Let us solve this optimization problem with `scipy.optimize` library.\n",
        " \n",
        " Additional 2 point are given for visualization of the results."
      ]
    },
    {
      "cell_type": "markdown",
      "metadata": {
        "id": "4sF_XwAwy67M"
      },
      "source": [
        "### PCA (3 points)"
      ]
    },
    {
      "cell_type": "code",
      "execution_count": 78,
      "metadata": {
        "id": "j96RLLKJy67N"
      },
      "outputs": [],
      "source": [
        "wine_data, wine_labels = wine_sklearn['data'], wine_sklearn['target']"
      ]
    },
    {
      "cell_type": "markdown",
      "metadata": {
        "id": "i6GQIfD1y67O"
      },
      "source": [
        "Find a covariance matrix of standartized data and assing it to S."
      ]
    },
    {
      "cell_type": "code",
      "execution_count": 79,
      "metadata": {
        "id": "SZtcA7F7y67P",
        "colab": {
          "base_uri": "https://localhost:8080/"
        },
        "outputId": "135b9c5f-093e-4499-bade-375c6a9aedfd"
      },
      "outputs": [
        {
          "output_type": "execute_result",
          "data": {
            "text/plain": [
              "5.787241159764734"
            ]
          },
          "metadata": {},
          "execution_count": 79
        }
      ],
      "source": [
        "## your code\n",
        "sc = StandardScaler()\n",
        "wine_std = sc.fit_transform(wine_data)\n",
        "S = np.cov(wine_std.T)\n",
        "np.linalg.norm(S)"
      ]
    },
    {
      "cell_type": "markdown",
      "metadata": {
        "id": "Z3Upe4aSy67P"
      },
      "source": [
        "If your code is correct, the following assert should be Ok."
      ]
    },
    {
      "cell_type": "code",
      "execution_count": 80,
      "metadata": {
        "id": "Mu6c-Esdy67Q"
      },
      "outputs": [],
      "source": [
        "assert np.allclose(np.linalg.norm(S), 5.787241159764733)"
      ]
    },
    {
      "cell_type": "code",
      "execution_count": 107,
      "metadata": {
        "id": "-QfNt7nny67T"
      },
      "outputs": [],
      "source": [
        "from scipy.optimize import minimize\n",
        "\n",
        "def objective(x):\n",
        "    # your code: write objective of the problem (don't forget that scipy does min while we need max)\n",
        "    return -(x.T@S@x)\n",
        "def norm_constraint(x):\n",
        "    # your code: constaraint norm of x to be 1, function should return 0 if constraint holds\n",
        "    return 0 if (np.linalg.norm(x) - 1) == 0 else 1\n",
        "\n",
        "con1 = {'type': 'eq', 'fun': norm_constraint}\n",
        "\n",
        "x0 = np.ones(13)\n",
        "\n",
        "sol = minimize(objective, \n",
        "               x0, \n",
        "               constraints = [con1]\n",
        "              )\n",
        "x0 = sol.x"
      ]
    },
    {
      "cell_type": "markdown",
      "metadata": {
        "id": "NOdbV20uy67U"
      },
      "source": [
        "Hurray! We have first vector! Let's do another one."
      ]
    },
    {
      "cell_type": "code",
      "execution_count": 108,
      "metadata": {
        "id": "SgEKYO9ky67V"
      },
      "outputs": [],
      "source": [
        "def orthogonality_constraint(x):\n",
        "    # your code: x should be orthogonal to x0, function should return 0 if constraint holds\n",
        "    return -(x.T@x0)\n",
        "con2 = {'type': 'eq', 'fun': orthogonality_constraint}\n",
        "\n",
        "x1 = np.zeros(13)\n",
        "\n",
        "\n",
        "sol = minimize(objective, \n",
        "               x1, \n",
        "               constraints = [con1, con2]\n",
        "              )\n",
        "\n",
        "x1 = sol.x"
      ]
    },
    {
      "cell_type": "markdown",
      "metadata": {
        "id": "d8fNm2KBy67V"
      },
      "source": [
        "If your solution is correct, the following asserts should be Ok."
      ]
    },
    {
      "cell_type": "code",
      "source": [
        "x0@S@x0"
      ],
      "metadata": {
        "colab": {
          "base_uri": "https://localhost:8080/"
        },
        "id": "dSC-3FgsyZ1e",
        "outputId": "df476c07-ab34-4f26-dcd5-ef68872a8e73"
      },
      "execution_count": 109,
      "outputs": [
        {
          "output_type": "execute_result",
          "data": {
            "text/plain": [
              "26.3565721124209"
            ]
          },
          "metadata": {},
          "execution_count": 109
        }
      ]
    },
    {
      "cell_type": "code",
      "execution_count": 105,
      "metadata": {
        "id": "aYy10AyTy67W",
        "colab": {
          "base_uri": "https://localhost:8080/",
          "height": 187
        },
        "outputId": "db7747fb-fa1e-42ad-bfde-926f268d6821"
      },
      "outputs": [
        {
          "output_type": "error",
          "ename": "AssertionError",
          "evalue": "ignored",
          "traceback": [
            "\u001b[0;31m---------------------------------------------------------------------------\u001b[0m",
            "\u001b[0;31mAssertionError\u001b[0m                            Traceback (most recent call last)",
            "\u001b[0;32m<ipython-input-105-ce50262afd69>\u001b[0m in \u001b[0;36m<module>\u001b[0;34m()\u001b[0m\n\u001b[0;32m----> 1\u001b[0;31m \u001b[0;32massert\u001b[0m \u001b[0mnp\u001b[0m\u001b[0;34m.\u001b[0m\u001b[0mallclose\u001b[0m\u001b[0;34m(\u001b[0m\u001b[0mx0\u001b[0m\u001b[0;34m@\u001b[0m\u001b[0mS\u001b[0m\u001b[0;34m@\u001b[0m\u001b[0mx0\u001b[0m\u001b[0;34m,\u001b[0m \u001b[0;36m4.732436977583595\u001b[0m\u001b[0;34m)\u001b[0m\u001b[0;34m\u001b[0m\u001b[0;34m\u001b[0m\u001b[0m\n\u001b[0m\u001b[1;32m      2\u001b[0m \u001b[0;32massert\u001b[0m \u001b[0mnp\u001b[0m\u001b[0;34m.\u001b[0m\u001b[0mallclose\u001b[0m\u001b[0;34m(\u001b[0m\u001b[0mx1\u001b[0m\u001b[0;34m@\u001b[0m\u001b[0mS\u001b[0m\u001b[0;34m@\u001b[0m\u001b[0mx1\u001b[0m\u001b[0;34m,\u001b[0m \u001b[0;36m2.5110809296451233\u001b[0m\u001b[0;34m)\u001b[0m\u001b[0;34m\u001b[0m\u001b[0;34m\u001b[0m\u001b[0m\n",
            "\u001b[0;31mAssertionError\u001b[0m: "
          ]
        }
      ],
      "source": [
        "assert np.allclose(x0@S@x0, 4.732436977583595)\n",
        "assert np.allclose(x1@S@x1, 2.5110809296451233)"
      ]
    },
    {
      "cell_type": "markdown",
      "metadata": {
        "id": "_npxLyzcy67W"
      },
      "source": [
        "### Visualization (2 points)"
      ]
    },
    {
      "cell_type": "markdown",
      "metadata": {
        "id": "omc4gMdYy67X"
      },
      "source": [
        "Visualize the points after applying custom dimension reduction with 2 components."
      ]
    },
    {
      "cell_type": "markdown",
      "metadata": {
        "id": "JZ5qYdo-y67X"
      },
      "source": [
        "## Exercise 5 - Boruta (3 points)\n",
        "\n",
        "Let us classify handwritten digits 0, 1 and 2. \n",
        "To make task not so easy the images are binarized (no shadows of gray present) as it happens with xerocopied documents.\n",
        "\n",
        "Let us also find out to which parts of an image there's no need to look in order to clasify three digits of interest."
      ]
    },
    {
      "cell_type": "code",
      "execution_count": null,
      "metadata": {
        "id": "YCs7_MJ4y67Y"
      },
      "outputs": [],
      "source": [
        "X, y = load_digits(n_class=3, return_X_y=True, as_frame=True)\n",
        "X = (X>10).astype(int)"
      ]
    },
    {
      "cell_type": "code",
      "execution_count": null,
      "metadata": {
        "id": "-pEcWwDwy67Z",
        "outputId": "893166bd-327f-4de7-a1a3-90d056404cfc"
      },
      "outputs": [
        {
          "data": {
            "image/png": "[encoded data removed]",
            "text/plain": [
              "<Figure size 720x288 with 3 Axes>"
            ]
          },
          "metadata": {
            "needs_background": "light"
          },
          "output_type": "display_data"
        }
      ],
      "source": [
        "f, ax = plt.subplots(1,3,figsize=(10,4))\n",
        "for i in range(3):\n",
        "    ax[i].imshow(X.iloc[i].values.reshape(8,8))\n",
        "    ax[i].set_title(f\"This is digit {y[i]}.\")\n",
        "plt.suptitle(\"First three images.\")\n",
        "plt.show()"
      ]
    },
    {
      "cell_type": "markdown",
      "metadata": {
        "id": "b_Fx-duLy67a"
      },
      "source": [
        "Split data into train and test, let test size be 30% of the dataset and fix random state to 42:"
      ]
    },
    {
      "cell_type": "code",
      "execution_count": null,
      "metadata": {
        "id": "5PR18ftgy67a"
      },
      "outputs": [],
      "source": [
        "X_train, X_val, y_train, y_val = ## your code here"
      ]
    },
    {
      "cell_type": "code",
      "execution_count": null,
      "metadata": {
        "id": "8F_qQbYLy67b"
      },
      "outputs": [],
      "source": [
        "assert y_val.shape[0] == 162\n",
        "assert y_val.sum() == 169"
      ]
    },
    {
      "cell_type": "markdown",
      "metadata": {
        "id": "nmSbpQt4y67c"
      },
      "source": [
        "Fit a RandomForestClassifier with max_depth=13 and evaluate it's performance:"
      ]
    },
    {
      "cell_type": "code",
      "execution_count": null,
      "metadata": {
        "id": "PIM0rFbpy67d"
      },
      "outputs": [],
      "source": [
        "clf = RandomForestClassifier(max_depth=13)\n",
        "\n",
        "# your code here\n",
        "\n",
        "acc = # your code here\n",
        "print(acc)"
      ]
    },
    {
      "cell_type": "code",
      "execution_count": null,
      "metadata": {
        "id": "knafU0Jcy67e"
      },
      "outputs": [],
      "source": [
        "assert acc > 0.98"
      ]
    },
    {
      "cell_type": "markdown",
      "metadata": {
        "id": "oEMNEtHhy67f"
      },
      "source": [
        "Now we will use Boruta to find redundand pixels. If the package is not installed in your system, uncomment and run the following cell."
      ]
    },
    {
      "cell_type": "code",
      "execution_count": null,
      "metadata": {
        "id": "YAQyxwjyy67h"
      },
      "outputs": [],
      "source": [
        "# ! pip install boruta"
      ]
    },
    {
      "cell_type": "code",
      "execution_count": null,
      "metadata": {
        "id": "AEzwScKNy67i"
      },
      "outputs": [],
      "source": [
        "from boruta import BorutaPy\n",
        "\n",
        "feat_selector = BorutaPy(RandomForestClassifier(max_depth=13), \n",
        "                         n_estimators='auto', \n",
        "                         verbose=0, \n",
        "                         max_iter=100,\n",
        "                         random_state=42)\n",
        "\n",
        "# your code here: do run the boruta"
      ]
    },
    {
      "cell_type": "markdown",
      "metadata": {
        "id": "55UcCXKAy67i"
      },
      "source": [
        "Let us print redundant pixels as a mask. Does the result looks similar to mine (or to Among us chracters)? "
      ]
    },
    {
      "cell_type": "code",
      "execution_count": null,
      "metadata": {
        "id": "OLjBHlvXy67j",
        "outputId": "0e3cde23-d0d7-4ba7-8b1f-c5063f551e9a"
      },
      "outputs": [
        {
          "data": {
            "image/png": "[encoded data removed]",
            "text/plain": [
              "<Figure size 432x288 with 1 Axes>"
            ]
          },
          "metadata": {
            "needs_background": "light"
          },
          "output_type": "display_data"
        }
      ],
      "source": [
        "mask = np.array(feat_selector.support_).reshape(8,8)\n",
        "plt.imshow(mask);"
      ]
    },
    {
      "cell_type": "markdown",
      "metadata": {
        "id": "AKPtkfo0y67k"
      },
      "source": [
        "At the end let us redo  classification but only with selected features"
      ]
    },
    {
      "cell_type": "code",
      "execution_count": null,
      "metadata": {
        "id": "XqcK2jjTy67l"
      },
      "outputs": [],
      "source": [
        "clf = RandomForestClassifier(max_depth=13)\n",
        "\n",
        "# your code here\n",
        "\n",
        "acc = # your code here\n",
        "print(acc)"
      ]
    },
    {
      "cell_type": "code",
      "execution_count": null,
      "metadata": {
        "id": "lspcUoxpy67m"
      },
      "outputs": [],
      "source": [
        "assert acc > 0.99"
      ]
    },
    {
      "cell_type": "markdown",
      "metadata": {
        "id": "xTWNmVDsy67m"
      },
      "source": [
        "# Materials & References"
      ]
    },
    {
      "cell_type": "markdown",
      "metadata": {
        "id": "FO7oQmpEy67n"
      },
      "source": [
        "1. General article about feature engineering and selection (main reference):\n",
        "https://github.com/Yorko/mlcourse.ai/blob/master/jupyter_english/topic06_features_regression/topic6_feature_engineering_feature_selection.ipynb\n",
        "\n",
        "2. Feature engineering/preprocessing, using scikit-learn API (great code examples, but really brief explanation):    \n",
        "https://scikit-learn.org/stable/modules/preprocessing\n",
        "\n",
        "3. Feature scaling/normalization:     \n",
        "https://towardsdatascience.com/all-about-feature-scaling-bcc0ad75cb35\n",
        "\n",
        "4. Log Transform/power transform:    \n",
        "https://medium.com/@kyawsawhtoon/log-transformation-purpose-and-interpretation-9444b4b049c9\n",
        "\n",
        "6. Missing values preprocessing using scikit-learn API (great code examples, great explanation):    \n",
        "https://scikit-learn.org/stable/modules/impute.html\n",
        "\n",
        "7. Feature selection scikit-learn API (great code examples, great explanation):   \n",
        "https://scikit-learn.org/stable/modules/feature_selection.html\n",
        "\n",
        "8. Melbourne housing dataset source:    \n",
        "https://www.kaggle.com/anthonypino/melbourne-housing-market"
      ]
    }
  ],
  "metadata": {
    "kernelspec": {
      "display_name": "Python 3 (ipykernel)",
      "language": "python",
      "name": "python3"
    },
    "language_info": {
      "codemirror_mode": {
        "name": "ipython",
        "version": 3
      },
      "file_extension": ".py",
      "mimetype": "text/x-python",
      "name": "python",
      "nbconvert_exporter": "python",
      "pygments_lexer": "ipython3",
      "version": "3.9.7"
    },
    "toc": {
      "base_numbering": "1",
      "nav_menu": {},
      "number_sections": true,
      "sideBar": true,
      "skip_h1_title": false,
      "title_cell": "Table of Contents",
      "title_sidebar": "Contents",
      "toc_cell": false,
      "toc_position": {
        "height": "calc(100% - 180px)",
        "left": "10px",
        "top": "150px",
        "width": "165px"
      },
      "toc_section_display": true,
      "toc_window_display": true
    },
    "colab": {
      "name": "homework.ipynb",
      "provenance": [],
      "collapsed_sections": [
        "_npxLyzcy67W"
      ]
    }
  },
  "nbformat": 4,
  "nbformat_minor": 0
}